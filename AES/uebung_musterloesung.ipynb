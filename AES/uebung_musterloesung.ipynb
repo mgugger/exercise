{
 "cells": [
  {
   "cell_type": "markdown",
   "metadata": {
    "deletable": false,
    "editable": false,
    "trusted": true
   },
   "source": [
    "### Vorbereitung\n",
    "\n",
    "Installieren Sie die benötigten Bibliotheken."
   ]
  },
  {
   "cell_type": "code",
   "execution_count": null,
   "metadata": {},
   "outputs": [],
   "source": [
    "pip install -U cryptography"
   ]
  },
  {
   "cell_type": "markdown",
   "metadata": {},
   "source": [
    "### Aufgabe 1\n",
    "\n",
    "Das nachfolgende Bild unten wurde mit AES verschlüsselt, bei der ersten Verschlüsselung wurde jeweils jeder Block (16 Bytes, 4 Pixel) einzeln verschlüsselt unabhängig von den restlichen Blöcken. Beim zweiten Bild wurden die Blöcke verkettet, so dass jeder Block zuerst mit dem verschlüsselten vorherigen Block kombiniert wurde (Cipher Block Chaining) / CBC).\n",
    "* Welches Prinzip (Konfusion oder Diffusion) wird bei der ersten Verschlüsselung nicht erfüllt?\n",
    "* Was ist das Problem, wenn wir jeden Block einzeln unabhängig von anderen Blöcken verschlüsseln?\n",
    "* Was schliessen Sie daraus über die Sicherheit der Algorithmen Caesar und Vigenère?\n",
    "  \n",
    "Halten Sie ihre Überlegungen unten fest.\n",
    "\n",
    "<center>\n",
    "<img style=\"float: left; width: 200px\" src=\"https://upload.wikimedia.org/wikipedia/commons/3/35/Tux.svg\">\n",
    "<img style=\"float: left; width: 200px\" src=\"https://upload.wikimedia.org/wikipedia/commons/c/c0/Tux_ECB.png\">\n",
    "<img style=\"float: left; width: 200px\" src=\"https://upload.wikimedia.org/wikipedia/commons/5/58/Tux_secure.png\">\n",
    "</center>\n",
    "\n"
   ]
  },
  {
   "cell_type": "markdown",
   "metadata": {},
   "source": [
    "Antwort:\n",
    "Die Diffusion ist nicht ausreichend, denn das Muster ist weiterhin als Pinguin erkennbar im zweiten Bild. Dies daran, dass jeder Block gleich verschlüsselt wurde, somit sind die gleichfarbigen Blöcke mit 4 Pixel jeweils auch gleich verschlüsselt, entsprechend lassen sich die Konturen erkennen.\n",
    "\n",
    "Das Problem beruht darauf, dass jeder Block einzeln verschlüsselt wurde unabhängig von den anderen Blöcken. Dies funktioniert ähnlich wie Vigenère oder Caesar, wo jeder Buchstabe 1 Block ist. Entsprechend wären auch bei Vigenère und Caesar Muster in der Verschlüsselung erkennbar."
   ]
  },
  {
   "cell_type": "markdown",
   "metadata": {},
   "source": [
    "### Aufgabe 2\n",
    "\n",
    "Nachfolgend finden Sie einen Code, welcher mittels AES einen Klartext verschlüsselt. Ändern Sie den Klartext minimal durch Ändern eines Buchstabens. \n",
    "\n",
    "Inwiefern verändert sich die Ausgabe und wieso ist dies ein Indiz für Diffusion?"
   ]
  },
  {
   "cell_type": "code",
   "execution_count": null,
   "metadata": {},
   "outputs": [],
   "source": [
    "from cryptography.fernet import Fernet as AES\n",
    "\n",
    "# Generiere einen zufälligen AES-Schlüssel\n",
    "schluessel = schluessel = b'Wno-rCbR7xda8wSBzmOZdYeBctRPrsUFOT9cYBMJDmI='\n",
    "\n",
    "# Erstelle ein AES-Objekt mit dem generierten Schlüssel\n",
    "aes_chiffre = AES(schluessel)\n",
    "\n",
    "# Klartextnachricht, die verschlüsselt werden soll\n",
    "klartext = b\"Hallo, das ist eine geheime Nachricht!\"\n",
    "\n",
    "# Verschlüsseln der Nachricht\n",
    "verschluesselte_nachricht = aes_chiffre.encrypt(klartext)\n",
    "print(\"Geheimschlüssel:\", schluessel)\n",
    "print(\"Verschlüsselte Nachricht:\", verschluesselte_nachricht)"
   ]
  },
  {
   "cell_type": "markdown",
   "metadata": {},
   "source": [
    "Antwort:\n",
    "Es ändert sich fast die Komplette ausgabe, in jedem falle aber viel mehr als nur eine einzelne Stelle im Klartext. Entsprechend erfüllt AES hier die Anforderungen der Diffusion."
   ]
  },
  {
   "cell_type": "markdown",
   "metadata": {},
   "source": [
    "### Aufgabe 3\n",
    "\n",
    "Vervollständigen Sie den Code unten anhand obigem Code. Verschlüsseln Sie damit eine eigene Nachricht. Schicken Sie den Schlüssel und die Geheimnachricht per Whatsapp / Email / Chat an ihre Banknachbarin oder ihren Banknachbarn zum entschlüsseln."
   ]
  },
  {
   "cell_type": "code",
   "execution_count": 1,
   "metadata": {},
   "outputs": [
    {
     "name": "stdout",
     "output_type": "stream",
     "text": [
      "Geheimschlüssel: b'etBxfMw9iHurHW-Apf7v24O_eOEYZBEX91rUv_dtKLY='\n",
      "Verschlüsselte Nachricht: b'gAAAAABl_AHMsfA4kOmgaWXxnugJx0kFuP3pPfzWpRQIqeoY8xq-2jgOFQYdzHTB8eYPsZp-cvj6DTEkifD31uPaHk6irsCFVPh84Q6OqMXyU74amNnR1YM='\n"
     ]
    }
   ],
   "source": [
    "from cryptography.fernet import Fernet as AES\n",
    "\n",
    "# Generiere einen zufälligen AES-Schlüssel\n",
    "schluessel = AES.generate_key()\n",
    "\n",
    "# Erstelle ein AES-Objekt mit dem generierten Schlüssel\n",
    "aes_chiffre = AES(schluessel)\n",
    "\n",
    "# Klartextnachricht, die verschlüsselt werden soll\n",
    "klartext = b\"Klartext der Aufgabe 3\"\n",
    "\n",
    "# Ihr Code kommt hier!.\n",
    "# Verschlüsseln der Nachricht\n",
    "verschluesselte_nachricht = aes_chiffre.encrypt(klartext)\n",
    "print(\"Geheimschlüssel:\", schluessel)\n",
    "print(\"Verschlüsselte Nachricht:\", verschluesselte_nachricht)"
   ]
  },
  {
   "cell_type": "markdown",
   "metadata": {},
   "source": [
    "### Aufgabe 4\n",
    "\n",
    "Entschlüsseln Sie die erhaltene Nachricht mittels nachfolgendem Code. Passen Sie die \"schluessel\"- und die \"verschluesselt\"-Variable entsprechend an."
   ]
  },
  {
   "cell_type": "code",
   "execution_count": null,
   "metadata": {},
   "outputs": [],
   "source": [
    "from cryptography.fernet import Fernet as AES\n",
    "\n",
    "# Der Schlüssel, welchen Sie erhalten haben.\n",
    "schluessel = ''\n",
    "\n",
    "# Erstelle ein Fernet-Objekt mit dem generierten Schlüssel\n",
    "aes_chiffre = AES(schluessel)\n",
    "\n",
    "# Die verschlüsselte Nachricht, welche Sie erhalten haben.\n",
    "verschluesselt = ''\n",
    "\n",
    "# Entschlüsseln der Nachricht\n",
    "entschluesselt = aes_chiffre.decrypt(verschluesselt)\n",
    "\n",
    "print(\"Entschlüsselte Nachricht:\", entschluesselt.decode())"
   ]
  },
  {
   "cell_type": "markdown",
   "metadata": {},
   "source": [
    "### Aufgabe 5\n",
    "\n",
    "Recherchieren Sie im Internet zu zwei Anwendungsbeispielen von AES im Alltag und dokumentieren Sie diese unten."
   ]
  },
  {
   "cell_type": "markdown",
   "metadata": {},
   "source": [
    "Antwort: "
   ]
  },
  {
   "cell_type": "markdown",
   "metadata": {},
   "source": [
    "### Bonusaufgabe\n",
    "\n",
    "* Überprüfen Sie, wie sich in Aufgabe 2 der Ciphertext ändert. Was bleibt gleich und was ändert sich?\n",
    "* Überlegen Sie sich, ob es einen Vorteil hat, wenn wir den Klartext zweimal verschlüsseln würden!"
   ]
  },
  {
   "cell_type": "markdown",
   "metadata": {},
   "source": [
    "Antwort:"
   ]
  }
 ],
 "metadata": {
  "kernelspec": {
   "display_name": "Python 3",
   "language": "python",
   "name": "python3"
  },
  "language_info": {
   "codemirror_mode": {
    "name": "ipython",
    "version": 3
   },
   "file_extension": ".py",
   "mimetype": "text/x-python",
   "name": "python",
   "nbconvert_exporter": "python",
   "pygments_lexer": "ipython3",
   "version": "3.10.12"
  }
 },
 "nbformat": 4,
 "nbformat_minor": 2
}
