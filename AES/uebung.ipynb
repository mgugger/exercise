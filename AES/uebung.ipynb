{
 "cells": [
  {
   "cell_type": "markdown",
   "metadata": {},
   "source": [
    "### Vorbereitung\n",
    "\n",
    "Installieren Sie die benötigten Bibliotheken."
   ]
  },
  {
   "cell_type": "code",
   "execution_count": null,
   "metadata": {},
   "outputs": [],
   "source": [
    "pip install -U cryptography"
   ]
  },
  {
   "cell_type": "markdown",
   "metadata": {},
   "source": [
    "### Aufgabe 1\n",
    "\n",
    "Das nachfolgende Bild unten wurde mit einem Algorithmus verschlüsselt, dabei wurde jeder Bildpunkt farblich geändert. Ist dies eine gute Verschlüsselung? Welches Prinzip (Konfusion oder Diffusion) wird verletzt?\n",
    "Halten Sie ihre Überlegungen unten fest.\n",
    "\n",
    "<center>\n",
    "<img style=\"float: left; width: 200px\" src=\"https://upload.wikimedia.org/wikipedia/commons/3/35/Tux.svg\">\n",
    "<img style=\"float: left; width: 200px\" src=\"https://upload.wikimedia.org/wikipedia/commons/c/c0/Tux_ECB.png\">\n",
    "</center>\n",
    "\n"
   ]
  },
  {
   "cell_type": "markdown",
   "metadata": {},
   "source": [
    "Antwort: "
   ]
  },
  {
   "cell_type": "markdown",
   "metadata": {},
   "source": [
    "### Aufgabe 2\n",
    "\n",
    "Nachfolgend finden Sie einen Code, welcher mittels AES einen Klartext verschlüsselt. Ändern Sie den Klartext minimal durch Ändern eines Buchstabens. Inwiefern verändert sich die Ausgabe und wieso ist dies ein Indiz für Diffusion?"
   ]
  },
  {
   "cell_type": "code",
   "execution_count": null,
   "metadata": {},
   "outputs": [],
   "source": [
    "from cryptography.fernet import Fernet as AES\n",
    "\n",
    "# Generiere einen zufälligen AES-Schlüssel\n",
    "schluessel = AES.generate_key()\n",
    "\n",
    "# Erstelle ein AES-Objekt mit dem generierten Schlüssel\n",
    "aes_chiffre = AES(schluessel)\n",
    "\n",
    "# Klartextnachricht, die verschlüsselt werden soll\n",
    "klartext = b\"Hallo, das ist eine geheime Nachricht!\"\n",
    "\n",
    "# Verschlüsseln der Nachricht\n",
    "verschluesselte_nachricht = aes_chiffre.encrypt(klartext)\n",
    "print(\"Geheimschlüssel:\", schluessel)\n",
    "print(\"Verschlüsselte Nachricht:\", verschluesselte_nachricht)"
   ]
  },
  {
   "cell_type": "markdown",
   "metadata": {},
   "source": [
    "Antwort:"
   ]
  },
  {
   "cell_type": "markdown",
   "metadata": {},
   "source": [
    "### Aufgabe 3\n",
    "\n",
    "Verschlüsseln Sie eine eigene Nachricht mittels obigem Code. Schicken Sie den Schlüssel und die Geheimnachricht per Whatsapp oder Email oder einer anderen Kommunikationsplattform an ihre Banknachbarin / ihren Banknachbar zum entschlüsseln."
   ]
  },
  {
   "cell_type": "markdown",
   "metadata": {},
   "source": [
    "### Aufgabe 4\n",
    "\n",
    "Entschlüsseln Sie die erhaltene Nachricht mittels nachfolgendem Code. Passen Sie die \"schluessel\"- und die \"verschluesselt\"-Variable entsprechend an."
   ]
  },
  {
   "cell_type": "code",
   "execution_count": null,
   "metadata": {},
   "outputs": [],
   "source": [
    "from cryptography.fernet import Fernet as AES\n",
    "\n",
    "# Der Schlüssel, welchen Sie erhalten haben.\n",
    "schluessel = ''\n",
    "\n",
    "# Erstelle ein Fernet-Objekt mit dem generierten Schlüssel\n",
    "aes_chiffre = AES(schluessel)\n",
    "\n",
    "# Die verschlüsselte Nachricht, welche Sie erhalten haben.\n",
    "verschluesselt = ''\n",
    "\n",
    "# Entschlüsseln der Nachricht\n",
    "entschluesselt = aes_chiffre.decrypt(verschluesselt)\n",
    "\n",
    "print(\"Entschlüsselte Nachricht:\", entschluesselt.decode())"
   ]
  },
  {
   "cell_type": "markdown",
   "metadata": {},
   "source": [
    "### Aufgabe 5\n",
    "\n",
    "Recherchieren Sie im Internet zu zwei Anwendungsbeispielen von AES im Alltag und dokumentieren Sie diese unten."
   ]
  },
  {
   "cell_type": "markdown",
   "metadata": {},
   "source": [
    "Antwort: "
   ]
  },
  {
   "cell_type": "markdown",
   "metadata": {},
   "source": [
    "### Bonusaufgabe 1\n",
    "\n",
    "Ihr iPhone oder ihr Android-Handy verschlüsselt jegliche Daten im Speicher (bspw. Fotos oder Textdateien). Dies geschieht mittels dem PIN oder einem Passwort. AES benötigt allerdings ein Schlüssel, welcher eine vordefinierte Länge hat.\n",
    "Um ein AES-Schlüssel von einem Passwort abzuleiten, wird eine \"Schlüsselableitung\" gemacht. Nachfolgend finden Sie einen Code, welcher dies tut. Ergänzen Sie den Code so, dass dieser den Klartext mit ihrem Schlüssel verschlüsselt und den Geheimtext mittels ```print()``` ausgibt."
   ]
  },
  {
   "cell_type": "code",
   "execution_count": 4,
   "metadata": {},
   "outputs": [],
   "source": [
    "from cryptography.hazmat.primitives import hashes\n",
    "from cryptography.hazmat.backends import default_backend\n",
    "from cryptography.hazmat.primitives.kdf.pbkdf2 import PBKDF2HMAC\n",
    "from cryptography.fernet import Fernet as AES\n",
    "import base64\n",
    "\n",
    "def generiere_schluessel(password):\n",
    "    # Umwandeln des Strings in Bytes\n",
    "    password_bytes = password.encode()\n",
    "\n",
    "    # Schlüsselableitung mittels PBKDF2\n",
    "    kdf = PBKDF2HMAC(\n",
    "        algorithm=hashes.SHA256(),\n",
    "        length=32,  # Benötigte Schlüssellänge\n",
    "        salt=b'salt_123',  # Salt\n",
    "        iterations=100000,  # Anzahl Iterationen\n",
    "        backend=default_backend()\n",
    "    )\n",
    "    key = kdf.derive(password_bytes)\n",
    "    return base64.urlsafe_b64encode(key)\n",
    "\n",
    "# Your password or PIN\n",
    "pin = \"123456\"\n",
    "\n",
    "# Generate a Fernet key from the password string\n",
    "aes_schluessel = generiere_schluessel(pin)\n",
    "\n",
    "# Create a Fernet object with the generated key\n",
    "aes_chiffre = AES(aes_schluessel)\n",
    "\n",
    "# Plaintext message to be encrypted\n",
    "klartext = b\"Hello, this is a secret message!\"\n",
    "\n",
    "# Hier kommt ihr Code"
   ]
  },
  {
   "cell_type": "markdown",
   "metadata": {},
   "source": [
    "Antwort:"
   ]
  },
  {
   "cell_type": "markdown",
   "metadata": {},
   "source": [
    "### Bonusaufgabe 2\n",
    "\n",
    "Recherchieren Sie und erklären Sie kurz die Unterschiede zwischen symmetrischen (bspw. AES) und asymmetrischen Verschlüsselungsverfahren. Geben Sie jeweils ein Beispiel für ein symmetrisches und ein asymmetrisches Verschlüsselungsverfahren an und diskutieren Sie deren Vor- und Nachteile.\n",
    "\n"
   ]
  },
  {
   "cell_type": "code",
   "execution_count": null,
   "metadata": {},
   "outputs": [],
   "source": [
    "Antwort:"
   ]
  }
 ],
 "metadata": {
  "kernelspec": {
   "display_name": "Python 3",
   "language": "python",
   "name": "python3"
  },
  "language_info": {
   "codemirror_mode": {
    "name": "ipython",
    "version": 3
   },
   "file_extension": ".py",
   "mimetype": "text/x-python",
   "name": "python",
   "nbconvert_exporter": "python",
   "pygments_lexer": "ipython3",
   "version": "3.11.8"
  }
 },
 "nbformat": 4,
 "nbformat_minor": 2
}
