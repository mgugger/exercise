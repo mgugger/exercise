{
 "cells": [
  {
   "cell_type": "markdown",
   "metadata": {},
   "source": [
    "### Vorbereitung: Installieren der benötigten Bibliotheken und Laden des Datensatzes"
   ]
  },
  {
   "cell_type": "code",
   "execution_count": null,
   "metadata": {},
   "outputs": [],
   "source": [
    "pip install -U scikit-learn matplotlib"
   ]
  },
  {
   "cell_type": "markdown",
   "metadata": {},
   "source": [
    "### Aufgabe 1: Laden des Datensatzes\n",
    "\n",
    "Wir haben ein Datenset erhalten, welches Iris-Blumen und gewisse Kenngrössen enthält. Nachfolgend finden Sie eine Rekonstruktion eines Teils der Daten als Tabelle.:\n",
    "\n",
    "| Stichprobe / Sample | Blumen-Typ | sepal length / Kelchblatt-Länge (cm)| sepal width / Kelchblatt-Breite (cm)| petal length / Blütenblatt-Länge (cm)| petal width / Blütenblatt-Breite (cm)|\n",
    "| -------- | ------- | ------- | -------- | ------- | -------- |\n",
    "| 0 | setosa  | 5.1 | 3.5 | 1.4 | 0.2 |\n",
    "| 1 | setosa  | 4.9 | 3. | 1.4 | 0.2 |\n",
    "| 2 | ? | ? | ? | ? | ? | ? |\n",
    "| ... | ... | ... | ... | ... | ... | ... |\n",
    "| 130 | virginica | 7.4 | 2.8 | 6.1 | 1.9 |\n",
    "| ... | ... | ... | ... | ... | ... | ... |\n",
    "\n",
    "Durch ausführen der Methode ```load_iris()``` werden die Daten in ein Python-Objekt geladen, um diese dann weiter verarbeiten zu können. Mittels pprint(iris) wird der Datensatz ausgegeben. Führen Sie den nachfolgenden Code aus und beantworte Sie die untenstehenden Fragen!"
   ]
  },
  {
   "cell_type": "code",
   "execution_count": null,
   "metadata": {},
   "outputs": [],
   "source": [
    "from sklearn.datasets import load_iris\n",
    "from pprint import pprint\n",
    "\n",
    "iris = load_iris()\n",
    "pprint(iris, sort_dicts=False)"
   ]
  },
  {
   "cell_type": "markdown",
   "metadata": {},
   "source": [
    "Fragen:\n",
    "1. Was ist der Zusammenhang der Ausgabe zur obigen Tabelle? \n",
    "   \n",
    "2. Wie könnte man die Tabelle oben bei den \"?\" für die Stichprobe 2 ergänzen?\n",
    "\n",
    "3. Was ist der Zusammenhang zwische ```iris.data``` und ```iris.target```?"
   ]
  },
  {
   "cell_type": "markdown",
   "metadata": {},
   "source": [
    "### Aufgabe 2: Analyse des Datensets\n",
    "\n",
    "Führen Sie den nachfolgenden Code aus und beantworten Sie die Fragen unterhalb des Codes."
   ]
  },
  {
   "cell_type": "code",
   "execution_count": null,
   "metadata": {},
   "outputs": [],
   "source": [
    "from sklearn.datasets import load_iris\n",
    "iris = load_iris()\n",
    "\n",
    "n_stichproben, n_features = iris.data.shape\n",
    "\n",
    "print('Namen der Stichproben', iris.target_names)\n",
    "print('Anzahl Stichproben:', n_stichproben)\n",
    "\n",
    "print('Anzahl Merkmale:', n_features)\n",
    "print('Namen der Merkmale', iris.feature_names)\n"
   ]
  },
  {
   "cell_type": "markdown",
   "metadata": {},
   "source": [
    "Fragen:\n",
    "1. Wieviele Stichproben enthält das Datensatz?\n",
    "\n",
    "2. Wieviele Merkmale zu den Blumen wurden erfasst?\n",
    "\n",
    "3. Wieviele verschiedene Sorten wurden im Datensatz erfasst?\n",
    "   "
   ]
  },
  {
   "cell_type": "markdown",
   "metadata": {},
   "source": [
    "### Aufgabe 3: Anzeigen von Werten der Stichproben\n",
    "Führen Sie den nachfolgenden Code aus und beantworten Sie die Fragen unterhalb des Codes."
   ]
  },
  {
   "cell_type": "code",
   "execution_count": null,
   "metadata": {},
   "outputs": [],
   "source": [
    "index_der_stichprobe = 130\n",
    "# Auslesen des Index des Typennamens der Stichprobe\n",
    "stichprobe_name_index = iris.target[index_der_stichprobe]\n",
    "# Auslesen des Typennamens der Stichprobe\n",
    "stichprobe_name = iris.target_names[stichprobe_name_index]\n",
    "# Ausgabe der Werte\n",
    "print('Name der ersten Stichprobe:', stichprobe_name)\n",
    "print('Namen der Features', iris.feature_names)\n",
    "print('Daten der 130ten Stichprobe:', iris.data[index_der_stichprobe])"
   ]
  },
  {
   "cell_type": "markdown",
   "metadata": {},
   "source": [
    "Fragen:\n",
    "1. Welche Stichprobe wird angezeigt in der Ausgabe?\n",
    "   \n",
    "2. Was bedeutet der Wert 6.1 im Output des ersten Codes oben?\n",
    "   \n",
    "3. Ändern Sie den Code oben so, dass die Messungen der 5ten Stichprobe ausgegeben werden. "
   ]
  },
  {
   "cell_type": "markdown",
   "metadata": {},
   "source": [
    "### Aufgabe 4: Anzeigen von Statistiken des Datensets\n",
    "\n",
    "Mittels untenstehendem Code können Sie auch der Minimum-, Maximum-, Mittel- und den Medianwert für eine Sorte ausgeben."
   ]
  },
  {
   "cell_type": "code",
   "execution_count": null,
   "metadata": {},
   "outputs": [],
   "source": [
    "import statistics\n",
    "\n",
    "blumensorte_index = 0 # Setosa\n",
    "merkmal_index = 0 # Sepal length\n",
    "\n",
    "stichproben_blumensorte = iris.target == blumensorte_index\n",
    "werte_der_merkmale = iris.data[stichproben_blumensorte, merkmal_index]\n",
    "\n",
    "print('Minimaler Wert:', werte_der_merkmale.min())\n",
    "print('Maximaler Wert:', werte_der_merkmale.max())\n",
    "print('Mittelwert:', statistics.mean(werte_der_merkmale))\n",
    "print('Median:', statistics.median(werte_der_merkmale))\n"
   ]
  },
  {
   "cell_type": "markdown",
   "metadata": {},
   "source": [
    "Fragen:\n",
    "\n",
    "1. Schauen Sie sich die Min, Max und Median-Werte einiger Features für verschiedene Blumen an. Sticht eine Sorte besonders heraus?"
   ]
  },
  {
   "cell_type": "markdown",
   "metadata": {},
   "source": [
    "### Aufgabe 5: Definieren von Hypothesen\n",
    "\n",
    "Definieren Sie aufgrund ihrer obigen Beobachtungen zwei Hypothesen zum Datensatz.\n",
    "\n",
    "Beispiel:\n",
    "* Die Länge der Blütenblätter einer Sorte unterscheidet sich stark von den anderen beiden Sorten\n",
    "* Die Breite der Kelchblätter unterscheidet sich nicht zwischen den Sorten."
   ]
  },
  {
   "cell_type": "markdown",
   "metadata": {},
   "source": [
    "Hypothesen:"
   ]
  },
  {
   "cell_type": "markdown",
   "metadata": {},
   "source": [
    "### Aufgabe 6: Auslesen von Daten für die Visualisierung der \"petal length\" der Stichproben\n",
    "\n",
    "Was macht der folgende Code? Beantworten Sie die untenstehenden Fragen und halten Sie ihre Überlegungen fest. Sie können den Code auch ausführen unten und die Inhalte der Variablen ausgeben mittels ```print()```!"
   ]
  },
  {
   "cell_type": "code",
   "execution_count": null,
   "metadata": {},
   "outputs": [],
   "source": [
    "# Nummer des Index / Element aus iris.target_names und auslesen des Namens\n",
    "blumensorte_index = 2\n",
    "blumensorte_name = iris.target_names[blumensorte_index]\n",
    "\n",
    "# Auslesen aller Stichproben des gewählten Blumentyps\n",
    "stichproben_blumensorte = iris.target == blumensorte_index\n",
    "\n",
    "# Nummer des Index / Element aus iris.feature_names\n",
    "merkmal_index = 2\n",
    "# Auslesen aller Werte des selektierten Features des Subsets der Stichproben\n",
    "stichproben_werte_fuer_merkmal = iris.data[stichproben_blumensorte, merkmal_index]\n",
    "\n",
    "# Geben Sie allenfalls die Werte mittels print() aus hier"
   ]
  },
  {
   "cell_type": "markdown",
   "metadata": {},
   "source": [
    "Fragen\n",
    "1. Was macht der obige Code?\n",
    "\n",
    "2. Was steht in der Variables \"samples_of_flower_type\"?\n",
    "\n",
    "3. Was steht in der Variable \"data_subset_of_selected_feature\"?\n"
   ]
  },
  {
   "cell_type": "markdown",
   "metadata": {},
   "source": [
    "### Aufgabe 7: Visualisieren eines Histogramms\n",
    "\n",
    "Wir möchten nun jede der Stichproben grafisch darstellen, jeder Blumentyp soll dabei eine eigene Farben erhalten. Dafür benötigen wir den obigen Code aus Aufgabe 6 zum auslesen der Daten für jeden Typ. Der Code unten zeichnet das Histogramm für eine einzelne Sorte auf. Führen Sie den Code aus und vervollständigen Sie danach das Diagramm, so dass auch die anderen beiden Sorten angezeigt werden. Dazu müssen Sie die Daten für die anderen Sorte wie in Aufgabe 6 auslesen und mittels ```àx.hist()``` die ausgelesenen Daten dem Histogramm hinzufügen.\n",
    "\n",
    "Stimmen ihre Hypothesen? Halten Sie ihre Beobachtungen unten fest."
   ]
  },
  {
   "cell_type": "code",
   "execution_count": null,
   "metadata": {},
   "outputs": [],
   "source": [
    "import matplotlib.pyplot as plt\n",
    "\n",
    "# Vorbereiten der Grafik\n",
    "fig, ax = plt.subplots()\n",
    "\n",
    "# Auswählen des Merkmals, welches visualisiert werden soll\n",
    "merkmal_index = 2 # Petal length\n",
    "\n",
    "# Auslesen der Daten der Sorte 0 wie in Aufgabe 6\n",
    "blumensorte_index = 0 # Setosa\n",
    "samples_of_flower_type = iris.target == blumensorte_index\n",
    "stichproben_werte_fuer_merkmal = iris.data[samples_of_flower_type, merkmal_index]\n",
    "blumensorte_name = iris.target_names[blumensorte_index]\n",
    "\n",
    "# Erstellen des Histogramms für die Blumensorte 0 anhand der obigen Daten\n",
    "ax.hist(stichproben_werte_fuer_merkmal, label=blumensorte_name, color='blue') # oder 'red', 'green', 'orange'\n",
    "\n",
    "### Sie können hier weitere ax.hist() hinzufügen, um die anderen Sorten ebenfalls zu visualisieren\n",
    "\n",
    "\n",
    "\n",
    "### Ende von Weiteren ax.hist()\n",
    "\n",
    "# Beschriften der X-Achse\n",
    "ax.set_xlabel(iris.feature_names[merkmal_index])\n",
    "# Setzen der Legende rechts oben\n",
    "ax.legend(loc='upper right')\n",
    "# Anzeigen des Histogramms\n",
    "fig.show()\n"
   ]
  },
  {
   "cell_type": "markdown",
   "metadata": {},
   "source": [
    "Antwort:"
   ]
  },
  {
   "cell_type": "markdown",
   "metadata": {},
   "source": [
    "### Bonusaufgabe 1:\n",
    "\n",
    "* Welche einfache Regel könnten wir festhalten, damit ein Computer anhand der \"petal length\" / Länge der Blütenblätter bestimmen kann, um welchen Typ Iris es sich handelt (bspw. Blütenblattlänge < 1.6 = setosa)? \n",
    "* Ist die \"petal length\" / Länge der Blütenblätter genügend aussagekräftig, um alle Stichproben korrekt einem Blumentyp zuzuordnen?\n",
    "\n",
    "Nützen Sie zur als Hilfe das Histogramm, welches Sie oben generiert haben."
   ]
  },
  {
   "cell_type": "markdown",
   "metadata": {},
   "source": [
    "Antwort:"
   ]
  }
 ],
 "metadata": {
  "kernelspec": {
   "display_name": "Python 3",
   "language": "python",
   "name": "python3"
  },
  "language_info": {
   "codemirror_mode": {
    "name": "ipython",
    "version": 3
   },
   "file_extension": ".py",
   "mimetype": "text/x-python",
   "name": "python",
   "nbconvert_exporter": "python",
   "pygments_lexer": "ipython3",
   "version": "3.10.12"
  }
 },
 "nbformat": 4,
 "nbformat_minor": 2
}
