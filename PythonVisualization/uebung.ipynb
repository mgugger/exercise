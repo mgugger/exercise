{
 "cells": [
  {
   "cell_type": "markdown",
   "metadata": {},
   "source": [
    "### Vorbereitung: Installieren der benötigten Bibliotheken und Laden des Datensatzes"
   ]
  },
  {
   "cell_type": "code",
   "execution_count": null,
   "metadata": {},
   "outputs": [],
   "source": [
    "pip install -U scikit-learn matplotlib"
   ]
  },
  {
   "cell_type": "markdown",
   "metadata": {},
   "source": [
    "### Aufgabe 1: Laden des Datensatzes\n",
    "\n",
    "Wir haben ein Datenset erhalten, welches Iris-Blumen und gewisse Kenngrössen enthält. Nachfolgend finden Sie eine Rekonstruktion eines Teils der Daten als Tabelle.:\n",
    "\n",
    "| Stichprobe / Sample | Blumen-Typ | sepal length / Kelchblatt-Länge (cm)| sepal width / Kelchblatt-Breite (cm)| petal length / Blütenblatt-Länge (cm)| petal width / Blütenblatt-Breite (cm)|\n",
    "| -------- | ------- | ------- | -------- | ------- | -------- |\n",
    "| 0 | setosa  | 5.1 | 3.5 | 1.4 | 0.2 |\n",
    "| 1 | setosa  | 4.9 | 3. | 1.4 | 0.2 |\n",
    "| 2 | ? | ? | ? | ? | ? | ? |\n",
    "| ... | ... | ... | ... | ... | ... | ... |\n",
    "| 130 | virginica | 7.4 | 2.8 | 6.1 | 1.9 |\n",
    "| ... | ... | ... | ... | ... | ... | ... |\n",
    "\n",
    "Durch ausführen der Methode ```load_iris()``` werden die Daten in ein Python-Objekt geladen, um diese dann weiter verarbeiten zu können. Mittels pprint(iris) wird der Datensatz ausgegeben. Führen Sie den nachfolgenden Code aus und beantworte Sie die untenstehenden Fragen!"
   ]
  },
  {
   "cell_type": "code",
   "execution_count": 2,
   "metadata": {},
   "outputs": [
    {
     "name": "stdout",
     "output_type": "stream",
     "text": [
      "{'data': array([[5.1, 3.5, 1.4, 0.2],\n",
      "       [4.9, 3. , 1.4, 0.2],\n",
      "       [4.7, 3.2, 1.3, 0.2],\n",
      "       [4.6, 3.1, 1.5, 0.2],\n",
      "       [5. , 3.6, 1.4, 0.2],\n",
      "       [5.4, 3.9, 1.7, 0.4],\n",
      "       [4.6, 3.4, 1.4, 0.3],\n",
      "       [5. , 3.4, 1.5, 0.2],\n",
      "       [4.4, 2.9, 1.4, 0.2],\n",
      "       [4.9, 3.1, 1.5, 0.1],\n",
      "       [5.4, 3.7, 1.5, 0.2],\n",
      "       [4.8, 3.4, 1.6, 0.2],\n",
      "       [4.8, 3. , 1.4, 0.1],\n",
      "       [4.3, 3. , 1.1, 0.1],\n",
      "       [5.8, 4. , 1.2, 0.2],\n",
      "       [5.7, 4.4, 1.5, 0.4],\n",
      "       [5.4, 3.9, 1.3, 0.4],\n",
      "       [5.1, 3.5, 1.4, 0.3],\n",
      "       [5.7, 3.8, 1.7, 0.3],\n",
      "       [5.1, 3.8, 1.5, 0.3],\n",
      "       [5.4, 3.4, 1.7, 0.2],\n",
      "       [5.1, 3.7, 1.5, 0.4],\n",
      "       [4.6, 3.6, 1. , 0.2],\n",
      "       [5.1, 3.3, 1.7, 0.5],\n",
      "       [4.8, 3.4, 1.9, 0.2],\n",
      "       [5. , 3. , 1.6, 0.2],\n",
      "       [5. , 3.4, 1.6, 0.4],\n",
      "       [5.2, 3.5, 1.5, 0.2],\n",
      "       [5.2, 3.4, 1.4, 0.2],\n",
      "       [4.7, 3.2, 1.6, 0.2],\n",
      "       [4.8, 3.1, 1.6, 0.2],\n",
      "       [5.4, 3.4, 1.5, 0.4],\n",
      "       [5.2, 4.1, 1.5, 0.1],\n",
      "       [5.5, 4.2, 1.4, 0.2],\n",
      "       [4.9, 3.1, 1.5, 0.2],\n",
      "       [5. , 3.2, 1.2, 0.2],\n",
      "       [5.5, 3.5, 1.3, 0.2],\n",
      "       [4.9, 3.6, 1.4, 0.1],\n",
      "       [4.4, 3. , 1.3, 0.2],\n",
      "       [5.1, 3.4, 1.5, 0.2],\n",
      "       [5. , 3.5, 1.3, 0.3],\n",
      "       [4.5, 2.3, 1.3, 0.3],\n",
      "       [4.4, 3.2, 1.3, 0.2],\n",
      "       [5. , 3.5, 1.6, 0.6],\n",
      "       [5.1, 3.8, 1.9, 0.4],\n",
      "       [4.8, 3. , 1.4, 0.3],\n",
      "       [5.1, 3.8, 1.6, 0.2],\n",
      "       [4.6, 3.2, 1.4, 0.2],\n",
      "       [5.3, 3.7, 1.5, 0.2],\n",
      "       [5. , 3.3, 1.4, 0.2],\n",
      "       [7. , 3.2, 4.7, 1.4],\n",
      "       [6.4, 3.2, 4.5, 1.5],\n",
      "       [6.9, 3.1, 4.9, 1.5],\n",
      "       [5.5, 2.3, 4. , 1.3],\n",
      "       [6.5, 2.8, 4.6, 1.5],\n",
      "       [5.7, 2.8, 4.5, 1.3],\n",
      "       [6.3, 3.3, 4.7, 1.6],\n",
      "       [4.9, 2.4, 3.3, 1. ],\n",
      "       [6.6, 2.9, 4.6, 1.3],\n",
      "       [5.2, 2.7, 3.9, 1.4],\n",
      "       [5. , 2. , 3.5, 1. ],\n",
      "       [5.9, 3. , 4.2, 1.5],\n",
      "       [6. , 2.2, 4. , 1. ],\n",
      "       [6.1, 2.9, 4.7, 1.4],\n",
      "       [5.6, 2.9, 3.6, 1.3],\n",
      "       [6.7, 3.1, 4.4, 1.4],\n",
      "       [5.6, 3. , 4.5, 1.5],\n",
      "       [5.8, 2.7, 4.1, 1. ],\n",
      "       [6.2, 2.2, 4.5, 1.5],\n",
      "       [5.6, 2.5, 3.9, 1.1],\n",
      "       [5.9, 3.2, 4.8, 1.8],\n",
      "       [6.1, 2.8, 4. , 1.3],\n",
      "       [6.3, 2.5, 4.9, 1.5],\n",
      "       [6.1, 2.8, 4.7, 1.2],\n",
      "       [6.4, 2.9, 4.3, 1.3],\n",
      "       [6.6, 3. , 4.4, 1.4],\n",
      "       [6.8, 2.8, 4.8, 1.4],\n",
      "       [6.7, 3. , 5. , 1.7],\n",
      "       [6. , 2.9, 4.5, 1.5],\n",
      "       [5.7, 2.6, 3.5, 1. ],\n",
      "       [5.5, 2.4, 3.8, 1.1],\n",
      "       [5.5, 2.4, 3.7, 1. ],\n",
      "       [5.8, 2.7, 3.9, 1.2],\n",
      "       [6. , 2.7, 5.1, 1.6],\n",
      "       [5.4, 3. , 4.5, 1.5],\n",
      "       [6. , 3.4, 4.5, 1.6],\n",
      "       [6.7, 3.1, 4.7, 1.5],\n",
      "       [6.3, 2.3, 4.4, 1.3],\n",
      "       [5.6, 3. , 4.1, 1.3],\n",
      "       [5.5, 2.5, 4. , 1.3],\n",
      "       [5.5, 2.6, 4.4, 1.2],\n",
      "       [6.1, 3. , 4.6, 1.4],\n",
      "       [5.8, 2.6, 4. , 1.2],\n",
      "       [5. , 2.3, 3.3, 1. ],\n",
      "       [5.6, 2.7, 4.2, 1.3],\n",
      "       [5.7, 3. , 4.2, 1.2],\n",
      "       [5.7, 2.9, 4.2, 1.3],\n",
      "       [6.2, 2.9, 4.3, 1.3],\n",
      "       [5.1, 2.5, 3. , 1.1],\n",
      "       [5.7, 2.8, 4.1, 1.3],\n",
      "       [6.3, 3.3, 6. , 2.5],\n",
      "       [5.8, 2.7, 5.1, 1.9],\n",
      "       [7.1, 3. , 5.9, 2.1],\n",
      "       [6.3, 2.9, 5.6, 1.8],\n",
      "       [6.5, 3. , 5.8, 2.2],\n",
      "       [7.6, 3. , 6.6, 2.1],\n",
      "       [4.9, 2.5, 4.5, 1.7],\n",
      "       [7.3, 2.9, 6.3, 1.8],\n",
      "       [6.7, 2.5, 5.8, 1.8],\n",
      "       [7.2, 3.6, 6.1, 2.5],\n",
      "       [6.5, 3.2, 5.1, 2. ],\n",
      "       [6.4, 2.7, 5.3, 1.9],\n",
      "       [6.8, 3. , 5.5, 2.1],\n",
      "       [5.7, 2.5, 5. , 2. ],\n",
      "       [5.8, 2.8, 5.1, 2.4],\n",
      "       [6.4, 3.2, 5.3, 2.3],\n",
      "       [6.5, 3. , 5.5, 1.8],\n",
      "       [7.7, 3.8, 6.7, 2.2],\n",
      "       [7.7, 2.6, 6.9, 2.3],\n",
      "       [6. , 2.2, 5. , 1.5],\n",
      "       [6.9, 3.2, 5.7, 2.3],\n",
      "       [5.6, 2.8, 4.9, 2. ],\n",
      "       [7.7, 2.8, 6.7, 2. ],\n",
      "       [6.3, 2.7, 4.9, 1.8],\n",
      "       [6.7, 3.3, 5.7, 2.1],\n",
      "       [7.2, 3.2, 6. , 1.8],\n",
      "       [6.2, 2.8, 4.8, 1.8],\n",
      "       [6.1, 3. , 4.9, 1.8],\n",
      "       [6.4, 2.8, 5.6, 2.1],\n",
      "       [7.2, 3. , 5.8, 1.6],\n",
      "       [7.4, 2.8, 6.1, 1.9],\n",
      "       [7.9, 3.8, 6.4, 2. ],\n",
      "       [6.4, 2.8, 5.6, 2.2],\n",
      "       [6.3, 2.8, 5.1, 1.5],\n",
      "       [6.1, 2.6, 5.6, 1.4],\n",
      "       [7.7, 3. , 6.1, 2.3],\n",
      "       [6.3, 3.4, 5.6, 2.4],\n",
      "       [6.4, 3.1, 5.5, 1.8],\n",
      "       [6. , 3. , 4.8, 1.8],\n",
      "       [6.9, 3.1, 5.4, 2.1],\n",
      "       [6.7, 3.1, 5.6, 2.4],\n",
      "       [6.9, 3.1, 5.1, 2.3],\n",
      "       [5.8, 2.7, 5.1, 1.9],\n",
      "       [6.8, 3.2, 5.9, 2.3],\n",
      "       [6.7, 3.3, 5.7, 2.5],\n",
      "       [6.7, 3. , 5.2, 2.3],\n",
      "       [6.3, 2.5, 5. , 1.9],\n",
      "       [6.5, 3. , 5.2, 2. ],\n",
      "       [6.2, 3.4, 5.4, 2.3],\n",
      "       [5.9, 3. , 5.1, 1.8]]),\n",
      " 'target': array([0, 0, 0, 0, 0, 0, 0, 0, 0, 0, 0, 0, 0, 0, 0, 0, 0, 0, 0, 0, 0, 0,\n",
      "       0, 0, 0, 0, 0, 0, 0, 0, 0, 0, 0, 0, 0, 0, 0, 0, 0, 0, 0, 0, 0, 0,\n",
      "       0, 0, 0, 0, 0, 0, 1, 1, 1, 1, 1, 1, 1, 1, 1, 1, 1, 1, 1, 1, 1, 1,\n",
      "       1, 1, 1, 1, 1, 1, 1, 1, 1, 1, 1, 1, 1, 1, 1, 1, 1, 1, 1, 1, 1, 1,\n",
      "       1, 1, 1, 1, 1, 1, 1, 1, 1, 1, 1, 1, 2, 2, 2, 2, 2, 2, 2, 2, 2, 2,\n",
      "       2, 2, 2, 2, 2, 2, 2, 2, 2, 2, 2, 2, 2, 2, 2, 2, 2, 2, 2, 2, 2, 2,\n",
      "       2, 2, 2, 2, 2, 2, 2, 2, 2, 2, 2, 2, 2, 2, 2, 2, 2, 2]),\n",
      " 'frame': None,\n",
      " 'target_names': array(['setosa', 'versicolor', 'virginica'], dtype='<U10'),\n",
      " 'DESCR': '.. _iris_dataset:\\n'\n",
      "          '\\n'\n",
      "          'Iris plants dataset\\n'\n",
      "          '--------------------\\n'\n",
      "          '\\n'\n",
      "          '**Data Set Characteristics:**\\n'\n",
      "          '\\n'\n",
      "          ':Number of Instances: 150 (50 in each of three classes)\\n'\n",
      "          ':Number of Attributes: 4 numeric, predictive attributes and the '\n",
      "          'class\\n'\n",
      "          ':Attribute Information:\\n'\n",
      "          '    - sepal length in cm\\n'\n",
      "          '    - sepal width in cm\\n'\n",
      "          '    - petal length in cm\\n'\n",
      "          '    - petal width in cm\\n'\n",
      "          '    - class:\\n'\n",
      "          '            - Iris-Setosa\\n'\n",
      "          '            - Iris-Versicolour\\n'\n",
      "          '            - Iris-Virginica\\n'\n",
      "          '\\n'\n",
      "          ':Summary Statistics:\\n'\n",
      "          '\\n'\n",
      "          '============== ==== ==== ======= ===== ====================\\n'\n",
      "          '                Min  Max   Mean    SD   Class Correlation\\n'\n",
      "          '============== ==== ==== ======= ===== ====================\\n'\n",
      "          'sepal length:   4.3  7.9   5.84   0.83    0.7826\\n'\n",
      "          'sepal width:    2.0  4.4   3.05   0.43   -0.4194\\n'\n",
      "          'petal length:   1.0  6.9   3.76   1.76    0.9490  (high!)\\n'\n",
      "          'petal width:    0.1  2.5   1.20   0.76    0.9565  (high!)\\n'\n",
      "          '============== ==== ==== ======= ===== ====================\\n'\n",
      "          '\\n'\n",
      "          ':Missing Attribute Values: None\\n'\n",
      "          ':Class Distribution: 33.3% for each of 3 classes.\\n'\n",
      "          ':Creator: R.A. Fisher\\n'\n",
      "          ':Donor: Michael Marshall (MARSHALL%PLU@io.arc.nasa.gov)\\n'\n",
      "          ':Date: July, 1988\\n'\n",
      "          '\\n'\n",
      "          'The famous Iris database, first used by Sir R.A. Fisher. The '\n",
      "          'dataset is taken\\n'\n",
      "          \"from Fisher's paper. Note that it's the same as in R, but not as in \"\n",
      "          'the UCI\\n'\n",
      "          'Machine Learning Repository, which has two wrong data points.\\n'\n",
      "          '\\n'\n",
      "          'This is perhaps the best known database to be found in the\\n'\n",
      "          \"pattern recognition literature.  Fisher's paper is a classic in the \"\n",
      "          'field and\\n'\n",
      "          'is referenced frequently to this day.  (See Duda & Hart, for '\n",
      "          'example.)  The\\n'\n",
      "          'data set contains 3 classes of 50 instances each, where each class '\n",
      "          'refers to a\\n'\n",
      "          'type of iris plant.  One class is linearly separable from the other '\n",
      "          '2; the\\n'\n",
      "          'latter are NOT linearly separable from each other.\\n'\n",
      "          '\\n'\n",
      "          '|details-start|\\n'\n",
      "          '**References**\\n'\n",
      "          '|details-split|\\n'\n",
      "          '\\n'\n",
      "          '- Fisher, R.A. \"The use of multiple measurements in taxonomic '\n",
      "          'problems\"\\n'\n",
      "          '  Annual Eugenics, 7, Part II, 179-188 (1936); also in '\n",
      "          '\"Contributions to\\n'\n",
      "          '  Mathematical Statistics\" (John Wiley, NY, 1950).\\n'\n",
      "          '- Duda, R.O., & Hart, P.E. (1973) Pattern Classification and Scene '\n",
      "          'Analysis.\\n'\n",
      "          '  (Q327.D83) John Wiley & Sons.  ISBN 0-471-22361-1.  See page '\n",
      "          '218.\\n'\n",
      "          '- Dasarathy, B.V. (1980) \"Nosing Around the Neighborhood: A New '\n",
      "          'System\\n'\n",
      "          '  Structure and Classification Rule for Recognition in Partially '\n",
      "          'Exposed\\n'\n",
      "          '  Environments\".  IEEE Transactions on Pattern Analysis and '\n",
      "          'Machine\\n'\n",
      "          '  Intelligence, Vol. PAMI-2, No. 1, 67-71.\\n'\n",
      "          '- Gates, G.W. (1972) \"The Reduced Nearest Neighbor Rule\".  IEEE '\n",
      "          'Transactions\\n'\n",
      "          '  on Information Theory, May 1972, 431-433.\\n'\n",
      "          '- See also: 1988 MLC Proceedings, 54-64.  Cheeseman et al\"s '\n",
      "          'AUTOCLASS II\\n'\n",
      "          '  conceptual clustering system finds 3 classes in the data.\\n'\n",
      "          '- Many, many more ...\\n'\n",
      "          '\\n'\n",
      "          '|details-end|\\n',\n",
      " 'feature_names': ['sepal length (cm)',\n",
      "                   'sepal width (cm)',\n",
      "                   'petal length (cm)',\n",
      "                   'petal width (cm)'],\n",
      " 'filename': 'iris.csv',\n",
      " 'data_module': 'sklearn.datasets.data'}\n"
     ]
    }
   ],
   "source": [
    "from sklearn.datasets import load_iris\n",
    "from pprint import pprint\n",
    "\n",
    "iris = load_iris()\n",
    "pprint(iris, sort_dicts=False)"
   ]
  },
  {
   "cell_type": "markdown",
   "metadata": {},
   "source": [
    "Fragen:\n",
    "1. Was ist der Zusammenhang der Ausgabe zur obigen Tabelle? \n",
    "   \n",
    "2. Wie könnte man die Tabelle oben bei den \"?\" für die Stichprobe 2 ergänzen?\n",
    "\n",
    "3. Was ist der Zusammenhang zwische ```iris.data``` und ```iris.target```?"
   ]
  },
  {
   "cell_type": "markdown",
   "metadata": {},
   "source": [
    "### Aufgabe 2: Analyse des Datensets\n",
    "\n",
    "Führen Sie den nachfolgenden Code aus und beantworten Sie die Fragen unterhalb des Codes."
   ]
  },
  {
   "cell_type": "code",
   "execution_count": 3,
   "metadata": {},
   "outputs": [
    {
     "name": "stdout",
     "output_type": "stream",
     "text": [
      "Namen der Stichproben ['setosa' 'versicolor' 'virginica']\n",
      "Anzahl Stichproben: 150\n",
      "Anzahl Merkmale: 4\n",
      "Namen der Merkmale ['sepal length (cm)', 'sepal width (cm)', 'petal length (cm)', 'petal width (cm)']\n"
     ]
    }
   ],
   "source": [
    "from sklearn.datasets import load_iris\n",
    "iris = load_iris()\n",
    "\n",
    "n_stichproben, n_features = iris.data.shape\n",
    "\n",
    "print('Namen der Stichproben', iris.target_names)\n",
    "print('Anzahl Stichproben:', n_stichproben)\n",
    "\n",
    "print('Anzahl Merkmale:', n_features)\n",
    "print('Namen der Merkmale', iris.feature_names)\n"
   ]
  },
  {
   "cell_type": "markdown",
   "metadata": {},
   "source": [
    "Fragen:\n",
    "1. Wieviele Stichproben enthält das Datensatz?\n",
    "\n",
    "2. Wieviele Merkmale zu den Blumen wurden erfasst?\n",
    "\n",
    "3. Wieviele verschiedene Sorten wurden im Datensatz erfasst?\n",
    "   "
   ]
  },
  {
   "cell_type": "markdown",
   "metadata": {},
   "source": [
    "### Aufgabe 3: Anzeigen von Werten der Stichproben\n",
    "Führen Sie den nachfolgenden Code aus und beantworten Sie die Fragen unterhalb des Codes."
   ]
  },
  {
   "cell_type": "code",
   "execution_count": 4,
   "metadata": {},
   "outputs": [
    {
     "name": "stdout",
     "output_type": "stream",
     "text": [
      "Name der ersten Stichprobe: virginica\n",
      "Namen der Features ['sepal length (cm)', 'sepal width (cm)', 'petal length (cm)', 'petal width (cm)']\n",
      "Daten der 130ten Stichprobe: [7.4 2.8 6.1 1.9]\n"
     ]
    }
   ],
   "source": [
    "index_der_stichprobe = 130\n",
    "# Auslesen des Index des Typennamens der Stichprobe\n",
    "stichprobe_name_index = iris.target[index_der_stichprobe]\n",
    "# Auslesen des Typennamens der Stichprobe\n",
    "stichprobe_name = iris.target_names[stichprobe_name_index]\n",
    "# Ausgabe der Werte\n",
    "print('Name der ersten Stichprobe:', stichprobe_name)\n",
    "print('Namen der Features', iris.feature_names)\n",
    "print('Daten der 130ten Stichprobe:', iris.data[index_der_stichprobe])"
   ]
  },
  {
   "cell_type": "markdown",
   "metadata": {},
   "source": [
    "Fragen:\n",
    "1. Welche Stichprobe wird angezeigt in der Ausgabe?\n",
    "   \n",
    "2. Was bedeutet der Wert 6.1 im Output des ersten Codes oben?\n",
    "   \n",
    "3. Ändern Sie den Code oben so, dass die Messungen der 5ten Stichprobe ausgegeben werden. "
   ]
  },
  {
   "cell_type": "markdown",
   "metadata": {},
   "source": [
    "### Aufgabe 4: Anzeigen von Statistiken des Datensets\n",
    "\n",
    "Mittels untenstehendem Code können Sie auch der Minimum-, Maximum-, Mittel- und den Medianwert für eine Sorte ausgeben."
   ]
  },
  {
   "cell_type": "code",
   "execution_count": 5,
   "metadata": {},
   "outputs": [
    {
     "name": "stdout",
     "output_type": "stream",
     "text": [
      "Minimaler Wert: 4.3\n",
      "Maximaler Wert: 5.8\n",
      "Mittelwert: 5.006\n",
      "Median: 5.0\n"
     ]
    }
   ],
   "source": [
    "import statistics\n",
    "\n",
    "blumensorte_index = 0 # Setosa\n",
    "merkmal_index = 0 # Sepal length\n",
    "\n",
    "stichproben_blumensorte = iris.target == blumensorte_index\n",
    "werte_der_merkmale = iris.data[stichproben_blumensorte, merkmal_index]\n",
    "\n",
    "print('Minimaler Wert:', werte_der_merkmale.min())\n",
    "print('Maximaler Wert:', werte_der_merkmale.max())\n",
    "print('Mittelwert:', statistics.mean(werte_der_merkmale))\n",
    "print('Median:', statistics.median(werte_der_merkmale))\n"
   ]
  },
  {
   "cell_type": "markdown",
   "metadata": {},
   "source": [
    "Fragen:\n",
    "\n",
    "1. Schauen Sie sich die Min, Max und Median-Werte einiger Features für verschiedene Blumen an. Sticht eine Sorte besonders heraus?"
   ]
  },
  {
   "cell_type": "markdown",
   "metadata": {},
   "source": [
    "### Aufgabe 5: Definieren von Hypothesen\n",
    "\n",
    "Definieren Sie aufgrund ihrer obigen Beobachtungen zwei Hypothesen zum Datensatz.\n",
    "\n",
    "Beispiel:\n",
    "* Die Länge der Blütenblätter einer Sorte unterscheidet sich stark von den anderen beiden Sorten\n",
    "* Die Breite der Kelchblätter unterscheidet sich nicht zwischen den Sorten."
   ]
  },
  {
   "cell_type": "markdown",
   "metadata": {},
   "source": [
    "Hypothesen:"
   ]
  },
  {
   "cell_type": "markdown",
   "metadata": {},
   "source": [
    "### Aufgabe 6: Auslesen von Daten für die Visualisierung der \"petal length\" der Stichproben\n",
    "\n",
    "Was macht der folgende Code? Beantworten Sie die untenstehenden Fragen und halten Sie ihre Überlegungen fest. Sie können den Code auch ausführen unten und die Inhalte der Variablen ausgeben mittels ```print()```!"
   ]
  },
  {
   "cell_type": "code",
   "execution_count": 6,
   "metadata": {},
   "outputs": [],
   "source": [
    "# Nummer des Index / Element aus iris.target_names und auslesen des Namens\n",
    "blumensorte_index = 2\n",
    "blumensorte_name = iris.target_names[blumensorte_index]\n",
    "\n",
    "# Auslesen aller Stichproben des gewählten Blumentyps\n",
    "stichproben_blumensorte = iris.target == blumensorte_index\n",
    "\n",
    "# Nummer des Index / Element aus iris.feature_names\n",
    "merkmal_index = 2\n",
    "# Auslesen aller Werte des selektierten Features des Subsets der Stichproben\n",
    "stichproben_werte_fuer_merkmal = iris.data[stichproben_blumensorte, merkmal_index]\n",
    "\n",
    "# Geben Sie allenfalls die Werte mittels print() aus hier"
   ]
  },
  {
   "cell_type": "markdown",
   "metadata": {},
   "source": [
    "Fragen\n",
    "1. Was macht der obige Code?\n",
    "\n",
    "2. Was steht in der Variables \"samples_of_flower_type\"?\n",
    "\n",
    "3. Was steht in der Variable \"data_subset_of_selected_feature\"?\n"
   ]
  },
  {
   "cell_type": "markdown",
   "metadata": {},
   "source": [
    "### Aufgabe 7: Visualisieren eines Histogramms\n",
    "\n",
    "Wir möchten nun jede der Stichproben grafisch darstellen, jeder Blumentyp soll dabei eine eigene Farben erhalten. Dafür benötigen wir den obigen Code aus Aufgabe 6 zum auslesen der Daten für jeden Typ. Der Code unten zeichnet das Histogramm für eine einzelne Sorte auf. Führen Sie den Code aus und vervollständigen Sie danach das Diagramm, so dass auch die anderen beiden Sorten angezeigt werden. Dazu müssen Sie die Daten für die anderen Sorte wie in Aufgabe 6 auslesen und mittels ```àx.hist()``` die ausgelesenen Daten dem Histogramm hinzufügen.\n",
    "\n",
    "Stimmen ihre Hypothesen? Halten Sie ihre Beobachtungen unten fest."
   ]
  },
  {
   "cell_type": "code",
   "execution_count": 7,
   "metadata": {},
   "outputs": [
    {
     "name": "stderr",
     "output_type": "stream",
     "text": [
      "/tmp/ipykernel_55245/2494383788.py:25: UserWarning: FigureCanvasAgg is non-interactive, and thus cannot be shown\n",
      "  fig.show()\n"
     ]
    },
    {
     "data": {
      "image/png": "[encoded data removed]",
      "text/plain": [
       "<Figure size 640x480 with 1 Axes>"
      ]
     },
     "metadata": {},
     "output_type": "display_data"
    }
   ],
   "source": [
    "import matplotlib.pyplot as plt\n",
    "\n",
    "# Vorbereiten der Grafik\n",
    "fig, ax = plt.subplots()\n",
    "\n",
    "# Auswählen des Merkmals, welches visualisiert werden soll\n",
    "merkmal_index = 2 # Petal length\n",
    "\n",
    "# Auslesen der Daten der Sorte 0 wie in Aufgabe 6\n",
    "blumensorte_index = 0 # Setosa\n",
    "samples_of_flower_type = iris.target == blumensorte_index\n",
    "stichproben_werte_fuer_merkmal = iris.data[samples_of_flower_type, merkmal_index]\n",
    "blumensorte_name = iris.target_names[blumensorte_index]\n",
    "\n",
    "# Erstellen des Histogramms für die Blumensorte 0 anhand der obigen Daten\n",
    "ax.hist(stichproben_werte_fuer_merkmal, label=blumensorte_name, color='blue') # oder 'red', 'green', 'orange'\n",
    "\n",
    "### Sie können hier weitere ax.hist() hinzufügen, um die anderen Sorten ebenfalls zu visualisieren\n",
    "\n",
    "\n",
    "\n",
    "### Ende von Weiteren ax.hist()\n",
    "\n",
    "# Beschriften der X-Achse\n",
    "ax.set_xlabel(iris.feature_names[merkmal_index])\n",
    "# Setzen der Legende rechts oben\n",
    "ax.legend(loc='upper right')\n",
    "# Anzeigen des Histogramms\n",
    "fig.show()\n"
   ]
  },
  {
   "cell_type": "markdown",
   "metadata": {},
   "source": [
    "Antwort:"
   ]
  },
  {
   "cell_type": "markdown",
   "metadata": {},
   "source": [
    "### Bonusaufgabe 1:\n",
    "\n",
    "* Welche einfache Regel könnten wir festhalten, damit ein Computer anhand der \"petal length\" / Länge der Blütenblätter bestimmen kann, um welchen Typ Iris es sich handelt (bspw. Blütenblattlänge < 1.6 = setosa)? \n",
    "* Ist die \"petal length\" / Länge der Blütenblätter genügend aussagekräftig, um alle Stichproben korrekt einem Blumentyp zuzuordnen?\n",
    "\n",
    "Nützen Sie zur als Hilfe das Histogramm, welches Sie oben generiert haben."
   ]
  },
  {
   "cell_type": "markdown",
   "metadata": {},
   "source": [
    "Antwort:"
   ]
  }
 ],
 "metadata": {
  "kernelspec": {
   "display_name": "Python 3",
   "language": "python",
   "name": "python3"
  },
  "language_info": {
   "codemirror_mode": {
    "name": "ipython",
    "version": 3
   },
   "file_extension": ".py",
   "mimetype": "text/x-python",
   "name": "python",
   "nbconvert_exporter": "python",
   "pygments_lexer": "ipython3",
   "version": "3.10.12"
  }
 },
 "nbformat": 4,
 "nbformat_minor": 2
}
