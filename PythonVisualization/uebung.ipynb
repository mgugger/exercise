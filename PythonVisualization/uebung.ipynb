{
 "cells": [
  {
   "cell_type": "markdown",
   "metadata": {},
   "source": [
    "### Vorbereitung: Installieren der benötigten Bibliotheken und Laden des Datensets"
   ]
  },
  {
   "cell_type": "code",
   "execution_count": null,
   "metadata": {},
   "outputs": [],
   "source": [
    "pip install -U scikit-learn matplotlib"
   ]
  },
  {
   "cell_type": "markdown",
   "metadata": {},
   "source": [
    "### Aufgabe 1: Laden des Datensets\n",
    "\n",
    "Wir haben ein Datenset erhalten, welches Iris-Blumen und gewisse Kenngrössen enthält. Nachfolgend finden Sie eine Rekonstruktion eines Teils der Daten als Tabelle.:\n",
    "\n",
    "| Stichprobe / Sample | Blumen-Typ | sepal length / Kelchblatt-Länge (cm)| sepal width / Kelchblatt-Breite (cm)| petal length / Blütenblatt-Länge (cm)| petal width / Blütenblatt-Breite (cm)|\n",
    "| -------- | ------- | ------- | -------- | ------- | -------- |\n",
    "| 0 | setosa  | 7.4 | 2.8 | 6.1 | 1.9 |\n",
    "| 1 | virginica  | 5.1 | 2.3 | 5.5 | 0.5 |\n",
    "| 2 | versicolor | 9.3 | 7.5 | 2.2 | 0.2 |\n",
    "| 3 | ... | ... | ... | ... | ... | ... |\n",
    "\n",
    "Durch ausführen der Methode ```load_iris()``` werden die Daten in ein Python-Objekt geladen, um diese dann weiter verarbeiten können. Mittels print(iris) wird der Datensatz ausgegeben. Führen Sie den nachfolgenden Code aus und beantworte Sie die untenstehenden Fragen!"
   ]
  },
  {
   "cell_type": "code",
   "execution_count": null,
   "metadata": {},
   "outputs": [],
   "source": [
    "from sklearn.datasets import load_iris\n",
    "\n",
    "iris = load_iris()\n",
    "print(iris)"
   ]
  },
  {
   "cell_type": "markdown",
   "metadata": {},
   "source": [
    "Fragen:\n",
    "1. Sehen Sie einen Zusammenhang der Ausgabe zur obigen Tabelle?\n",
    "   \n",
    "2. Wie unterscheiden sich die Ausgabe unten von der Tabelle oben?\n",
    "\n",
    "3. Welche Attribute hat das Objekt und welchen Daten sind darin enthalten?"
   ]
  },
  {
   "cell_type": "markdown",
   "metadata": {},
   "source": [
    "### Aufgabe 2: Analyse des Datensets\n",
    "\n",
    "Führen Sie den nachfolgenden Code aus und beantworten Sie die Fragen unterhalb des Codes."
   ]
  },
  {
   "cell_type": "code",
   "execution_count": 2,
   "metadata": {},
   "outputs": [
    {
     "name": "stdout",
     "output_type": "stream",
     "text": [
      "Namen der Sampels ['setosa' 'versicolor' 'virginica']\n",
      "Anzahl Sampels: 150\n",
      "Anzahl Merkmale: 4\n",
      "Namen der Merkmale ['sepal length (cm)', 'sepal width (cm)', 'petal length (cm)', 'petal width (cm)']\n"
     ]
    }
   ],
   "source": [
    "from sklearn.datasets import load_iris\n",
    "iris = load_iris()\n",
    "\n",
    "n_samples, n_features = iris.data.shape\n",
    "\n",
    "print('Namen der Stichproben', iris.target_names)\n",
    "print('Anzahl Stichproben:', n_samples)\n",
    "\n",
    "print('Anzahl Merkmale:', n_features)\n",
    "print('Namen der Merkmale', iris.feature_names)\n"
   ]
  },
  {
   "cell_type": "markdown",
   "metadata": {},
   "source": [
    "Fragen:\n",
    "1. Wieviele Stichproben enthält das Datenset?\n",
    "\n",
    "2. Wieviele Merkmale zu den Blumen wurden erfasst?\n",
    "   "
   ]
  },
  {
   "cell_type": "markdown",
   "metadata": {},
   "source": [
    "### Aufgabe 3: Datenanalyse\n",
    "Führen Sie den nachfolgenden Code aus und beantworten Sie die Fragen unterhalb des Codes."
   ]
  },
  {
   "cell_type": "code",
   "execution_count": 11,
   "metadata": {},
   "outputs": [
    {
     "name": "stdout",
     "output_type": "stream",
     "text": [
      "Name des ersten Sampels: virginica\n",
      "Namen der Features ['sepal length (cm)', 'sepal width (cm)', 'petal length (cm)', 'petal width (cm)']\n",
      "Daten des ersten Sampels: [7.4 2.8 6.1 1.9]\n"
     ]
    }
   ],
   "source": [
    "index_of_sample = 130\n",
    "# Auslesen des Index des Typennamens der Stichprobe\n",
    "sample_name_index = iris.target[index_of_sample]\n",
    "# Auslesen des Typennamens der Stichprobe\n",
    "sample_name = iris.target_names[sample_name_index]\n",
    "# Ausgabe der Werte\n",
    "print('Name des ersten Sampels:', sample_name)\n",
    "print('Namen der Features', iris.feature_names)\n",
    "print('Daten des 130ten Sampels:', iris.data[index_of_sample])"
   ]
  },
  {
   "cell_type": "markdown",
   "metadata": {},
   "source": [
    "Zusätzlich können Sie mit untenstehendem Code auch Min, Max und der Median für eine Sorte ausgeben:"
   ]
  },
  {
   "cell_type": "code",
   "execution_count": null,
   "metadata": {},
   "outputs": [],
   "source": [
    "import statistics\n",
    "\n",
    "flower_type = 0 # Setosa\n",
    "feature_index = 0 # Sepal length\n",
    "\n",
    "target_species_feature = iris.data[flower_type, feature_index]\n",
    "\n",
    "print('Minimaler Wert:', target_species_feature.min())\n",
    "print('Maximaler Wert:', target_species_feature.max())\n",
    "print('Mittelwert:', statistics.mean(target_species_feature))\n",
    "print('Median:', statistics.median(target_species_feature))\n"
   ]
  },
  {
   "cell_type": "markdown",
   "metadata": {},
   "source": [
    "Fragen:\n",
    "1. Welche Stichprobe wird angezeigt in der Ausgabe?\n",
    "   \n",
    "2. Was bedeutet der Wert 6.1 im Output des ersten Codes oben?\n",
    "   \n",
    "3. Ändern Sie den Code oben so, dass die Messungen der 5ten Stichprobe ausgegeben werden. \n",
    "\n",
    "4. Schauen Sie sich die Min, Max und Median-Werte einiger Features für verschiedene Blumen an."
   ]
  },
  {
   "cell_type": "markdown",
   "metadata": {},
   "source": [
    "### Aufgabe 4: Definieren von Hypothesen\n",
    "\n",
    "Definieren Sie aufgrund ihrer obigen Beobachtungen zwei Hypothesen zum Datensatz.\n",
    "\n",
    "Beispiel:\n",
    "* Die Länge der Blütenblätter einer Sorte unterscheidet sich stark von den anderen beiden Sorten\n",
    "* Die Breite der Kelchblätter unterscheidet sich nicht zwischen den Sorten."
   ]
  },
  {
   "cell_type": "markdown",
   "metadata": {},
   "source": [
    "Hypothesen:"
   ]
  },
  {
   "cell_type": "markdown",
   "metadata": {},
   "source": [
    "### Aufgabe 5: Benötigte Daten für die Visualisierung der \"petal length\" aller Stichproben\n",
    "\n",
    "Was macht der folgende Code? Beantworten Sie die untenstehenden Fragen und halten Sie ihre Überlegungen fest. Sie können den Code auch gerne \n",
    "\n",
    "```\n",
    "# Nummer des Index / Element aus iris.target_names und auslesen des Namens\n",
    "flower_type = 2\n",
    "label_name = iris.target_names[flower_type]\n",
    "\n",
    "# Auslesen aller Stichproben des gewählten Blumentyps\n",
    "samples_of_flower_type = iris.target == flower_type\n",
    "\n",
    "# Nummer des Index / Element aus iris.feature_names\n",
    "feature_index = 3\n",
    "# Auslesen aller Werte des selektierten Features des Subsets der Stichproben\n",
    "data_subset_of_selected_feature = iris.data[samples_of_flower_type, feature_index]\n",
    "\n",
    "```\n"
   ]
  },
  {
   "cell_type": "code",
   "execution_count": null,
   "metadata": {},
   "outputs": [],
   "source": [
    "# Kopieren Sie obigen Code bei Bedarf hier rein, Sie können mittels print() auch die Inhalte Variablen ausgeben!"
   ]
  },
  {
   "cell_type": "markdown",
   "metadata": {},
   "source": [
    "Fragen\n",
    "1. Was macht der obige Code?\n",
    "\n",
    "2. Was steht in der Variables \"samples_of_flower_type\"?\n",
    "\n",
    "3. Was steht in der Variable \"data_subset_of_selected_feature\"?\n"
   ]
  },
  {
   "cell_type": "markdown",
   "metadata": {},
   "source": [
    "### Aufgabe 6: Visualisieren eines Histogramms\n",
    "\n",
    "Wir möchten nun jede der Stichproben grafisch darstellen, jeder Blumentyp soll dabei eine eigene Farben erhalten. Dafür benötigen wir den obigen Code zum auslesen der Daten für jeden Typ. Der Code unten enthält die Lösung, um ein zweidimensionales Histogramm zu Zeichnen mittels ```ax.hist()``` und ```fig.show()```. Vervollständigen Sie den Code unten mit dem Code von oben. Dabei tritt noch ein Fehler auf.\n",
    "Finden Sie den Fehler und korrigieren Sie ihn, so dass das Histogramm korrekt angezeigt werden!\n",
    "\n",
    "Stimmen ihre Hypothesen?"
   ]
  },
  {
   "cell_type": "code",
   "execution_count": null,
   "metadata": {},
   "outputs": [],
   "source": [
    "import matplotlib.pyplot as plt\n",
    "\n",
    "fig, ax = plt.subplots()\n",
    "colors = ['blue', 'red', 'green']\n",
    "\n",
    "for i in range(0,3):\n",
    "    color = colors[i]\n",
    "    # Code von oben kommt hier rein, achten Sie auf die korrekte Einrueckung!\n",
    "    \n",
    "    # Einfuegen des Datensets in das Histogramm\n",
    "    ax.hist(data_subset_of_selected_feature, label=label_name, color=color)\n",
    "\n",
    "ax.set_xlabel(iris.feature_names[feature_index])\n",
    "ax.legend(loc='upper right')\n",
    "fig.show()"
   ]
  },
  {
   "cell_type": "markdown",
   "metadata": {},
   "source": [
    "### Bonusaufgabe 1:\n",
    "\n",
    "Beantworten Sie die folgenden Fragen."
   ]
  },
  {
   "cell_type": "markdown",
   "metadata": {},
   "source": [
    " 1. Welche einfache Regel könnten wir festhalten, damit ein Computer anhand der \"petal length\" / Länge der Kronblätter bestimmen kann, um welchen Typ Iris es sich handelt (bspw. Kronblattlänge < 1.6 = setosa)? Ist die \"petal length\" / Länge der Kronblätter genügend aussagekräftig, um alle Stichproben korrekt einem Blumentyp zuzuordnen?"
   ]
  },
  {
   "cell_type": "markdown",
   "metadata": {},
   "source": [
    "### Bonusaufgabe 2: Überprüfen der Regel für weitere Merkmale / Stichproben\n",
    "\n",
    "Kopieren Sie den obigen Code zum erstellen des Histogramms in das untenstehende Feld. Passen Sie den Code so an, dass Sie nicht die \"petal length\" / Länge der Kronblätter visualisieren, sondern ein anderes Merkmal. Beantworten Sie danach die nachfolgenden Fragen.\n"
   ]
  },
  {
   "cell_type": "code",
   "execution_count": null,
   "metadata": {},
   "outputs": [],
   "source": [
    "# Ihr Code"
   ]
  },
  {
   "cell_type": "markdown",
   "metadata": {},
   "source": [
    "Fragen:\n",
    "1. Überprüfen Sie ihre Regel von oben, um eine neue Blume anhald der Kronblätter zu klassifizieren. Lässt sich die Regel auch auf das zweite Merkmale anwenden?\n",
    "\n",
    "2. Was sind die Schwierigkeiten, wenn die Länge eines Merkmals allein nicht 100% aussagekräftig ist zu einem Blumentyp? Wie können wir unsere Regel verbessern?"
   ]
  }
 ],
 "metadata": {
  "kernelspec": {
   "display_name": "Python 3",
   "language": "python",
   "name": "python3"
  },
  "language_info": {
   "codemirror_mode": {
    "name": "ipython",
    "version": 3
   },
   "file_extension": ".py",
   "mimetype": "text/x-python",
   "name": "python",
   "nbconvert_exporter": "python",
   "pygments_lexer": "ipython3",
   "version": "3.11.8"
  }
 },
 "nbformat": 4,
 "nbformat_minor": 2
}
